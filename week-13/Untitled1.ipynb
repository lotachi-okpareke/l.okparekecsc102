{
 "cells": [
  {
   "cell_type": "code",
   "execution_count": null,
   "id": "5eccd466",
   "metadata": {},
   "outputs": [],
   "source": [
    "from abc import ABC, abstractmethod\n",
    "\n",
    "class External_Vendors(ABC):\n",
    "    def menu(self):\n",
    "        pass\n",
    "    \n",
    "    class Faith_Hostel(External_Vendors):\n",
    "        def menu(self, vendor):\n",
    "            menu_items = {'Main Meal: ': [\"Jollof Rice and Stew, White Rice and Stew, Fried Rice, Salad, Plantain\"], \"Price(N): \"[200, 200, 200, 100, 100]}\n",
    "           \n",
    "    class Cooperative_Hostel(External_Vendors):\n",
    "        def menu(self, vendor):\n",
    "            menu_items = {\"Main Meal: \": [\"Fried Rice, White Rice and Stew, Jollof Rice, Beans, Chicken\"], \"Price(N): \"[400, 400, 400, 200, 1000]}\n",
    "        \n",
    "    class Student_Centre(External_Vendors):\n",
    "         def menu(self, vendor):"
   ]
  }
 ],
 "metadata": {
  "kernelspec": {
   "display_name": "Python 3 (ipykernel)",
   "language": "python",
   "name": "python3"
  },
  "language_info": {
   "codemirror_mode": {
    "name": "ipython",
    "version": 3
   },
   "file_extension": ".py",
   "mimetype": "text/x-python",
   "name": "python",
   "nbconvert_exporter": "python",
   "pygments_lexer": "ipython3",
   "version": "3.10.9"
  }
 },
 "nbformat": 4,
 "nbformat_minor": 5
}

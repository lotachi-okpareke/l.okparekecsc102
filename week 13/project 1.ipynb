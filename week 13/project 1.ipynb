{
 "cells": [
  {
   "cell_type": "code",
   "execution_count": 38,
   "id": "62bad843",
   "metadata": {},
   "outputs": [
    {
     "ename": "NameError",
     "evalue": "name 'self' is not defined",
     "output_type": "error",
     "traceback": [
      "\u001b[1;31m---------------------------------------------------------------------------\u001b[0m",
      "\u001b[1;31mNameError\u001b[0m                                 Traceback (most recent call last)",
      "Cell \u001b[1;32mIn[38], line 2\u001b[0m\n\u001b[0;32m      1\u001b[0m \u001b[38;5;28;01mimport\u001b[39;00m \u001b[38;5;21;01mpandas\u001b[39;00m \u001b[38;5;28;01mas\u001b[39;00m \u001b[38;5;21;01mpd\u001b[39;00m\n\u001b[1;32m----> 2\u001b[0m \u001b[38;5;28;01mclass\u001b[39;00m \u001b[38;5;21;01mSMIS\u001b[39;00m:\n\u001b[0;32m      3\u001b[0m     \u001b[38;5;28;01mdef\u001b[39;00m \u001b[38;5;21m__init__\u001b[39m(\u001b[38;5;28mself\u001b[39m):\n\u001b[0;32m      4\u001b[0m         \u001b[38;5;28mself\u001b[39m\u001b[38;5;241m.\u001b[39mlistname \u001b[38;5;241m=\u001b[39m []\n",
      "Cell \u001b[1;32mIn[38], line 25\u001b[0m, in \u001b[0;36mSMIS\u001b[1;34m()\u001b[0m\n\u001b[0;32m     20\u001b[0m         x \u001b[38;5;241m+\u001b[39m\u001b[38;5;241m=\u001b[39m \u001b[38;5;241m1\u001b[39m\n\u001b[0;32m     22\u001b[0m     \u001b[38;5;66;03m#x = x + 1 can also be written as x += 1\u001b[39;00m\n\u001b[1;32m---> 25\u001b[0m \u001b[38;5;28;43mself\u001b[39;49m\u001b[38;5;241m.\u001b[39mlol \u001b[38;5;241m=\u001b[39m {}\n\u001b[0;32m     26\u001b[0m \u001b[38;5;28mself\u001b[39m\u001b[38;5;241m.\u001b[39mlol[\u001b[38;5;124m'\u001b[39m\u001b[38;5;124mName\u001b[39m\u001b[38;5;124m'\u001b[39m] \u001b[38;5;241m=\u001b[39m \u001b[38;5;28mself\u001b[39m\u001b[38;5;241m.\u001b[39mlistname\n\u001b[0;32m     27\u001b[0m \u001b[38;5;28mself\u001b[39m\u001b[38;5;241m.\u001b[39mlol[\u001b[38;5;124m'\u001b[39m\u001b[38;5;124mMatric Number\u001b[39m\u001b[38;5;124m'\u001b[39m] \u001b[38;5;241m=\u001b[39m \u001b[38;5;28mself\u001b[39m\u001b[38;5;241m.\u001b[39mlistmatric\n",
      "\u001b[1;31mNameError\u001b[0m: name 'self' is not defined"
     ]
    }
   ],
   "source": [
    "import pandas as pd\n",
    "class SMIS:\n",
    "    def __init__(self):\n",
    "        self.listname = []\n",
    "        self.listmatric = []\n",
    "        self.listdep = []\n",
    "        self.listlevel = []\n",
    "        \n",
    "        p = int(input('Enter the number of students: '))\n",
    "        x = 0 \n",
    "        while x < p:\n",
    "            name = input('\\nEnter full name: ')\n",
    "            self.listname.append(name)\n",
    "            matric = input('Enter matric number: ')\n",
    "            self.listmatric.append(matric)\n",
    "            dep = input('Enter department: ')\n",
    "            self.listdep.append(dep)\n",
    "            level = input('Enter level: ')\n",
    "            self.listlevel.append(level)\n",
    "            x += 1\n",
    "\n",
    "        #x = x + 1 can also be written as x += 1\n",
    "\n",
    "\n",
    "    self.lol = {}\n",
    "    self.lol['Name'] = self.listname\n",
    "    self.lol['Matric Number'] = self.listmatric\n",
    "    self.lol['Department'] = self.listdep\n",
    "    self.lol['Level'] = self.listlevel\n",
    "    \n",
    "def data_frame(self):\n",
    "    df = pd.DataFrame(self.lol)\n",
    "    df\n",
    "    \n",
    "    def excel(self):\n",
    "        df.to_csv('PAU SIMS')\n",
    "    \n",
    "v = SMIS()\n",
    "v.data_frame()\n",
    "v.excel()"
   ]
  },
  {
   "cell_type": "code",
   "execution_count": null,
   "id": "1d2035df",
   "metadata": {},
   "outputs": [],
   "source": []
  },
  {
   "cell_type": "code",
   "execution_count": null,
   "id": "1113f35a",
   "metadata": {},
   "outputs": [],
   "source": []
  }
 ],
 "metadata": {
  "kernelspec": {
   "display_name": "Python 3 (ipykernel)",
   "language": "python",
   "name": "python3"
  },
  "language_info": {
   "codemirror_mode": {
    "name": "ipython",
    "version": 3
   },
   "file_extension": ".py",
   "mimetype": "text/x-python",
   "name": "python",
   "nbconvert_exporter": "python",
   "pygments_lexer": "ipython3",
   "version": "3.10.9"
  }
 },
 "nbformat": 4,
 "nbformat_minor": 5
}

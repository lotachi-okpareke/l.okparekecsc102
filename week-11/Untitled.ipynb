{
 "cells": [
  {
   "cell_type": "code",
   "execution_count": 40,
   "id": "ac392bb1",
   "metadata": {},
   "outputs": [
    {
     "ename": "NameError",
     "evalue": "name 'self' is not defined",
     "output_type": "error",
     "traceback": [
      "\u001b[1;31m---------------------------------------------------------------------------\u001b[0m",
      "\u001b[1;31mNameError\u001b[0m                                 Traceback (most recent call last)",
      "Cell \u001b[1;32mIn[40], line 12\u001b[0m\n\u001b[0;32m      9\u001b[0m         \u001b[38;5;28mself\u001b[39m\u001b[38;5;241m.\u001b[39moranges \u001b[38;5;241m=\u001b[39m oranges\n\u001b[0;32m     10\u001b[0m         \u001b[38;5;28mself\u001b[39m\u001b[38;5;241m.\u001b[39mquantity \u001b[38;5;241m=\u001b[39m quantity\n\u001b[1;32m---> 12\u001b[0m \u001b[38;5;28;01mclass\u001b[39;00m \u001b[38;5;21;01mcalculate_cost\u001b[39;00m(\u001b[38;5;28;43mself\u001b[39;49m):\n\u001b[0;32m     13\u001b[0m     \u001b[38;5;28;01mif\u001b[39;00m \u001b[38;5;28mself\u001b[39m\u001b[38;5;241m.\u001b[39mquantity \u001b[38;5;241m>\u001b[39m \u001b[38;5;28mself\u001b[39m\u001b[38;5;241m.\u001b[39mstockquantity:\n\u001b[0;32m     14\u001b[0m         \u001b[38;5;28mprint\u001b[39m(\u001b[38;5;124m\"\u001b[39m\u001b[38;5;124mPlease select a quantity less than that!\u001b[39m\u001b[38;5;124m\"\u001b[39m)\n",
      "\u001b[1;31mNameError\u001b[0m: name 'self' is not defined"
     ]
    }
   ],
   "source": [
    "class Stock:\n",
    "    def __init__(self, stockquantity):\n",
    "        self = self\n",
    "        self.stockquantity = 45\n",
    "\n",
    "class Oranges(Stock):\n",
    "    def __init__(self, oranges, quantity):\n",
    "        super().__init__()  # Call the parent class's __init__ method\n",
    "        self.oranges = oranges\n",
    "        self.quantity = quantity\n",
    "        \n",
    "class calculate_cost(self):\n",
    "    if self.quantity > self.stockquantity:\n",
    "        print(\"Please select a quantity less than that!\")\n",
    "    else:\n",
    "        unitprice = 5 #the cost of one orange is 12\n",
    "        cost = self.quantity * unitprice\n",
    "        print(\"You have succesfuly purchased\", self.quantity, \"of oranges!\")\n",
    "        print(\"Your total cost of your purchase is: \", cost)\n",
    "        \n",
    "quantity_to_buy = int(input(\"Please input how many oranges you would like to buy: \"))\n",
    "order = Oranges(\"Oranges\", quantity_to_buy)\n",
    "order.calculate_cost()\n",
    "quantity()\n",
    "print(\"Thank you for your patronage!\")\n",
    "\n",
    "\n",
    "    \n",
    "    \n",
    "        \n",
    "        "
   ]
  },
  {
   "cell_type": "code",
   "execution_count": 2,
   "id": "05efad62",
   "metadata": {},
   "outputs": [
    {
     "name": "stdout",
     "output_type": "stream",
     "text": [
      "Please enter the number of oranges you would like to buy: 4\n",
      "You have successfully purchased 4 oranges.\n",
      "The total cost is $ 40\n",
      "Thank you for your patronage!\n"
     ]
    }
   ],
   "source": [
    "class Stock:\n",
    "    def __init__(self):\n",
    "        self.stockquantity = 45\n",
    "\n",
    "class Oranges(Stock):\n",
    "    def __init__(self, oranges, quantity):\n",
    "        super().__init__()  # Call the parent class's __init__ method\n",
    "        self.oranges = oranges\n",
    "        self.quantity = quantity\n",
    "\n",
    "    def calculate_cost(self):\n",
    "        if self.quantity > self.stockquantity:\n",
    "            print(\"Please select a quantity less than that!\")\n",
    "        else:\n",
    "            unit_price = 10  # Assuming each orange costs $10\n",
    "            cost = self.quantity * unit_price\n",
    "            print(\"You have successfully purchased\", self.quantity, \"oranges.\")\n",
    "            print(\"The total cost is $\", cost)\n",
    "\n",
    "# Example usage\n",
    "quantity_to_buy = int(input(\"Please enter the number of oranges you would like to buy: \"))\n",
    "orange_order = Oranges(\"Oranges\", quantity_to_buy)\n",
    "orange_order.calculate_cost()\n",
    "print(\"Thank you for your patronage!\")\n"
   ]
  },
  {
   "cell_type": "code",
   "execution_count": null,
   "id": "f6a1abdd",
   "metadata": {},
   "outputs": [],
   "source": [
    "class formula():\n",
    "    def __init__(self, number):\n",
    "        self.number = number\n",
    "        \n",
    "        def Trapzium(self):\n",
    "            h = int(input(\"What is your height: \"))\n",
    "            b1 = int(input(\"What is your first base: \"))\n",
    "            b2 = int(input(\"What is your s\"))\n",
    "        "
   ]
  }
 ],
 "metadata": {
  "kernelspec": {
   "display_name": "Python 3 (ipykernel)",
   "language": "python",
   "name": "python3"
  },
  "language_info": {
   "codemirror_mode": {
    "name": "ipython",
    "version": 3
   },
   "file_extension": ".py",
   "mimetype": "text/x-python",
   "name": "python",
   "nbconvert_exporter": "python",
   "pygments_lexer": "ipython3",
   "version": "3.10.9"
  }
 },
 "nbformat": 4,
 "nbformat_minor": 5
}

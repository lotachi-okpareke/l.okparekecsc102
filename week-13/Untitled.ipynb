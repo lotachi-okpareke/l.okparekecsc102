{
 "cells": [
  {
   "cell_type": "code",
   "execution_count": 18,
   "id": "b9a51f57",
   "metadata": {
    "scrolled": true
   },
   "outputs": [
    {
     "name": "stdout",
     "output_type": "stream",
     "text": [
      "What is your name? lolo\n",
      "What club do you support? Cirok\n",
      "Welome to FC Cirok\n"
     ]
    }
   ],
   "source": [
    "from abc import ABC, abstractmethod\n",
    "\n",
    "class coup_de_escriva(ABC):\n",
    "    \n",
    "    @abstractmethod\n",
    "    def Fan_Page(self):\n",
    "        pass\n",
    "    \n",
    "class FC_Cirok(coup_de_escriva):\n",
    "    def Fan_Page(self):\n",
    "        print(\"Welcome to FC Cirok\")   \n",
    "    \n",
    "class Madiba_FC(coup_de_escriva):\n",
    "    def Fan_Page(self):\n",
    "        print(\"Welcome to FC Madiba\")\n",
    "        \n",
    "class Blue_Jay_FC(coup_de_escriva):\n",
    "    def Fan_Page(self):\n",
    "        print(\"Welcome to FC BlueJays\")\n",
    "        \n",
    "class TSG_Walkers(coup_de_escriva):\n",
    "    def Fan_Page(self):\n",
    "        print(\"Welcome to TSG Walkers\")\n",
    "        \n",
    "name = input(\"What is your name? \")\n",
    "club = input(\"What club do you support? \")\n",
    "\n",
    "if club == \"Cirok\":\n",
    "    cirok = FC_Cirok()\n",
    "    cirok.Fan_Page()\n",
    "elif club == \"Madiba\":\n",
    "     madiba = Madiba_FC()\n",
    "     madiba.Fan_Page()\n",
    "elif club == \"Blue_Jay\":\n",
    "    bluejay = Ble_Jay_FC()\n",
    "    bluejay.Fan_Page()\n",
    "elif club == \"TSG Walkers\":\n",
    "    tsg_walkers = TSG_Walkers()\n",
    "    tsg_walkers.Fan_Page()\n",
    "    "
   ]
  },
  {
   "cell_type": "code",
   "execution_count": null,
   "id": "2197330c",
   "metadata": {},
   "outputs": [],
   "source": []
  }
 ],
 "metadata": {
  "kernelspec": {
   "display_name": "Python 3 (ipykernel)",
   "language": "python",
   "name": "python3"
  },
  "language_info": {
   "codemirror_mode": {
    "name": "ipython",
    "version": 3
   },
   "file_extension": ".py",
   "mimetype": "text/x-python",
   "name": "python",
   "nbconvert_exporter": "python",
   "pygments_lexer": "ipython3",
   "version": "3.10.9"
  }
 },
 "nbformat": 4,
 "nbformat_minor": 5
}

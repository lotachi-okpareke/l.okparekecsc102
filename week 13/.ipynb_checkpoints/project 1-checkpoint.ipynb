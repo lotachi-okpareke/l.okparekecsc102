{
 "cells": [
  {
   "cell_type": "code",
   "execution_count": 33,
   "id": "5df6551a",
   "metadata": {},
   "outputs": [
    {
     "name": "stdout",
     "output_type": "stream",
     "text": [
      "Enter the number of students: 2\n",
      "\n",
      "Enter full name: aa\n",
      "Enter matric number: sa\n",
      "Enter department: saa\n",
      "Enter level: saas\n",
      "\n",
      "Enter full name: ssaw\n",
      "Enter matric number: sas\n",
      "Enter department: ssa\n",
      "Enter level: ass\n"
     ]
    },
    {
     "ename": "AttributeError",
     "evalue": "'SMIS' object has no attribute 'data_frame'",
     "output_type": "error",
     "traceback": [
      "\u001b[1;31m---------------------------------------------------------------------------\u001b[0m",
      "\u001b[1;31mAttributeError\u001b[0m                            Traceback (most recent call last)",
      "Cell \u001b[1;32mIn[33], line 39\u001b[0m\n\u001b[0;32m     36\u001b[0m     display(df)\n\u001b[0;32m     38\u001b[0m v \u001b[38;5;241m=\u001b[39m SMIS()\n\u001b[1;32m---> 39\u001b[0m \u001b[43mv\u001b[49m\u001b[38;5;241;43m.\u001b[39;49m\u001b[43mdata_frame\u001b[49m()\n",
      "\u001b[1;31mAttributeError\u001b[0m: 'SMIS' object has no attribute 'data_frame'"
     ]
    }
   ],
   "source": [
    "import pandas as pd\n",
    "class SMIS:\n",
    "    \n",
    "    def __init__(self):\n",
    "        listname = []\n",
    "        listmatric = []\n",
    "        listdep = []\n",
    "        listlevel = []\n",
    "        \n",
    "        p = int(input('Enter the number of students: '))\n",
    "        x = 0 \n",
    "        while x < p:\n",
    "            \n",
    "            name = input('\\nEnter full name: ')\n",
    "            listname.append(name)\n",
    "            matric = input('Enter matric number: ')\n",
    "            listmatric.append(matric)\n",
    "            dep = input('Enter department: ')\n",
    "            listdep.append(dep)\n",
    "            level = input('Enter level: ')\n",
    "            listlevel.append(level)\n",
    "            x += 1\n",
    "\n",
    "        #x = x + 1 can also be written as x += 1\n",
    "\n",
    "\n",
    "    lol = {}\n",
    "    lol['Name'] = listname\n",
    "    lol['Matric Number'] = listmatric\n",
    "    lol['Department'] = listdep\n",
    "    lol['Level'] = listlevel\n",
    "    \n",
    "def data_frame(self):\n",
    "    \n",
    "    df = pd.DataFrame(lol)\n",
    "    display(df)\n",
    "    \n",
    "v = SMIS()\n",
    "v.data_frame()"
   ]
  },
  {
   "cell_type": "code",
   "execution_count": null,
   "id": "c7fae190",
   "metadata": {},
   "outputs": [],
   "source": []
  },
  {
   "cell_type": "code",
   "execution_count": null,
   "id": "d49eea7f",
   "metadata": {},
   "outputs": [],
   "source": []
  }
 ],
 "metadata": {
  "kernelspec": {
   "display_name": "Python 3 (ipykernel)",
   "language": "python",
   "name": "python3"
  },
  "language_info": {
   "codemirror_mode": {
    "name": "ipython",
    "version": 3
   },
   "file_extension": ".py",
   "mimetype": "text/x-python",
   "name": "python",
   "nbconvert_exporter": "python",
   "pygments_lexer": "ipython3",
   "version": "3.10.9"
  }
 },
 "nbformat": 4,
 "nbformat_minor": 5
}

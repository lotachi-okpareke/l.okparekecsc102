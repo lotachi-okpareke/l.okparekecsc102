{
 "cells": [
  {
   "cell_type": "code",
   "execution_count": 17,
   "id": "e42542bc",
   "metadata": {},
   "outputs": [
    {
     "ename": "IndentationError",
     "evalue": "unexpected indent (3901741037.py, line 4)",
     "output_type": "error",
     "traceback": [
      "\u001b[1;36m  Cell \u001b[1;32mIn[17], line 4\u001b[1;36m\u001b[0m\n\u001b[1;33m    self.division = division\u001b[0m\n\u001b[1;37m    ^\u001b[0m\n\u001b[1;31mIndentationError\u001b[0m\u001b[1;31m:\u001b[0m unexpected indent\n"
     ]
    }
   ],
   "source": [
    "class Employee:\n",
    "         def __init__(self, name, division):\n",
    "             self.name = name\n",
    "                self.division = division\n",
    "\n",
    "         def display_service(self):\n",
    "            print(f\"{self.name} works in the {self.division} division.\")\n",
    "\n",
    "         def get_service(self):\n",
    "            pass\n",
    "\n",
    "\n",
    "class RetailBanking(Employee):\n",
    "    def get_service(self):\n",
    "        return [\n",
    "            \"Lines of credit\",\n",
    "            \"Investment management and accounts\",\n",
    "            \"Insurance\",\n",
    "            \"Retirement and education accounts\",\n",
    "            \"Loans and mortgages\",\n",
    "            \"Checking and saving\",\n",
    "        ]\n",
    "\n",
    "\n",
    "class GlobalBanking(Employee):\n",
    "    def get_service(self):\n",
    "        return [\n",
    "            \"Multi-currency management services and products\",\n",
    "            \"Foreign currency accounts\",\n",
    "            \"Foreign currency credit cards\",\n",
    "            \"Transborder advisory services\",\n",
    "            \"Liquidity management\",\n",
    "        ]\n",
    "\n",
    "\n",
    "class CommercialBanking(Employee):\n",
    "    def get_service(self):\n",
    "        return [\n",
    "            \"Lines of credit\",\n",
    "            \"Investment management and accounts\",\n",
    "            \"Insurance\",\n",
    "            \"Advisory services\",\n",
    "        ]\n",
    "\n",
    "\n",
    "def main():\n",
    "    name = input(\"Enter employee name: \")\n",
    "    division = input(\"Enter employee division: \")\n",
    "\n",
    "    if division == \"Retail Banking\":\n",
    "        employee = RetailBanking(name, division)\n",
    "    elif division == \"Global Banking\":\n",
    "        employee = GlobalBanking(name, division)\n",
    "    elif division == \"Commercial Banking\":\n",
    "        employee = CommercialBanking(name, division)\n",
    "    else:\n",
    "        print(\"Invalid division entered.\")\n",
    "        return\n",
    "\n",
    "    employee.display_service()\n",
    "    services = employee.get_service()\n",
    "    if services:\n",
    "        print(f\"Services in {division}:\")\n",
    "        for service in services:\n",
    "            print(f\"- {service}\")\n",
    "    else:\n",
    "        print(\"No services available for this division.\")\n",
    "\n",
    "\n",
    "if __name__ == \"__main__\":\n",
    "    main()"
   ]
  },
  {
   "cell_type": "code",
   "execution_count": null,
   "id": "c62c8fd6",
   "metadata": {},
   "outputs": [],
   "source": []
  }
 ],
 "metadata": {
  "kernelspec": {
   "display_name": "Python 3 (ipykernel)",
   "language": "python",
   "name": "python3"
  },
  "language_info": {
   "codemirror_mode": {
    "name": "ipython",
    "version": 3
   },
   "file_extension": ".py",
   "mimetype": "text/x-python",
   "name": "python",
   "nbconvert_exporter": "python",
   "pygments_lexer": "ipython3",
   "version": "3.10.9"
  }
 },
 "nbformat": 4,
 "nbformat_minor": 5
}

{
 "cells": [
  {
   "cell_type": "code",
   "execution_count": 2,
   "id": "b9a51f57",
   "metadata": {},
   "outputs": [
    {
     "ename": "SyntaxError",
     "evalue": "incomplete input (238772871.py, line 10)",
     "output_type": "error",
     "traceback": [
      "\u001b[1;36m  Cell \u001b[1;32mIn[2], line 10\u001b[1;36m\u001b[0m\n\u001b[1;33m    class FC_Cirok(coup_de_escriva):\u001b[0m\n\u001b[1;37m                                    ^\u001b[0m\n\u001b[1;31mSyntaxError\u001b[0m\u001b[1;31m:\u001b[0m incomplete input\n"
     ]
    }
   ],
   "source": [
    "from abc import ABC, abstractmethod\n",
    "\n",
    "class coup_de_escriva(ABC):\n",
    "    \n",
    "    @abstractmethod\n",
    "    def Fan_Page(self):\n",
    "        print(\"Welcome to \", \"club.name\")\n",
    "        pass\n",
    "    \n",
    "class FC_Cirok(coup_de_escriva):\n",
    "    def Cirok(self):\n",
    "        print(\"Welcome to FC Cirok\")\n",
    "    "
   ]
  },
  {
   "cell_type": "code",
   "execution_count": null,
   "id": "2197330c",
   "metadata": {},
   "outputs": [],
   "source": [
    "nam = input(\"What is your nam?\")\n",
    "Club = input(\"What club do you support?\")\n",
    "if (club = \"Cirok\"):\n",
    "    oup_de_escriva.Cirok\n"
   ]
  }
 ],
 "metadata": {
  "kernelspec": {
   "display_name": "Python 3 (ipykernel)",
   "language": "python",
   "name": "python3"
  },
  "language_info": {
   "codemirror_mode": {
    "name": "ipython",
    "version": 3
   },
   "file_extension": ".py",
   "mimetype": "text/x-python",
   "name": "python",
   "nbconvert_exporter": "python",
   "pygments_lexer": "ipython3",
   "version": "3.10.9"
  }
 },
 "nbformat": 4,
 "nbformat_minor": 5
}
